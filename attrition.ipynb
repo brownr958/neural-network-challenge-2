{
 "cells": [
  {
   "cell_type": "markdown",
   "metadata": {
    "id": "alIIEHibGc3M"
   },
   "source": [
    "## Part 1: Preprocessing"
   ]
  },
  {
   "cell_type": "code",
   "execution_count": 1,
   "metadata": {
    "colab": {
     "base_uri": "https://localhost:8080/",
     "height": 325
    },
    "executionInfo": {
     "elapsed": 12323,
     "status": "ok",
     "timestamp": 1730699226906,
     "user": {
      "displayName": "Alexander Booth",
      "userId": "02269714993535573104"
     },
     "user_tz": 360
    },
    "id": "6eDUJ4NtGc3P",
    "outputId": "eeae54b5-3d17-442d-94ba-00dd55b89964"
   },
   "outputs": [
    {
     "data": {
      "text/html": [
       "<div>\n",
       "<style scoped>\n",
       "    .dataframe tbody tr th:only-of-type {\n",
       "        vertical-align: middle;\n",
       "    }\n",
       "\n",
       "    .dataframe tbody tr th {\n",
       "        vertical-align: top;\n",
       "    }\n",
       "\n",
       "    .dataframe thead th {\n",
       "        text-align: right;\n",
       "    }\n",
       "</style>\n",
       "<table border=\"1\" class=\"dataframe\">\n",
       "  <thead>\n",
       "    <tr style=\"text-align: right;\">\n",
       "      <th></th>\n",
       "      <th>Age</th>\n",
       "      <th>Attrition</th>\n",
       "      <th>BusinessTravel</th>\n",
       "      <th>Department</th>\n",
       "      <th>DistanceFromHome</th>\n",
       "      <th>Education</th>\n",
       "      <th>EducationField</th>\n",
       "      <th>EnvironmentSatisfaction</th>\n",
       "      <th>HourlyRate</th>\n",
       "      <th>JobInvolvement</th>\n",
       "      <th>...</th>\n",
       "      <th>PerformanceRating</th>\n",
       "      <th>RelationshipSatisfaction</th>\n",
       "      <th>StockOptionLevel</th>\n",
       "      <th>TotalWorkingYears</th>\n",
       "      <th>TrainingTimesLastYear</th>\n",
       "      <th>WorkLifeBalance</th>\n",
       "      <th>YearsAtCompany</th>\n",
       "      <th>YearsInCurrentRole</th>\n",
       "      <th>YearsSinceLastPromotion</th>\n",
       "      <th>YearsWithCurrManager</th>\n",
       "    </tr>\n",
       "  </thead>\n",
       "  <tbody>\n",
       "    <tr>\n",
       "      <th>0</th>\n",
       "      <td>41</td>\n",
       "      <td>Yes</td>\n",
       "      <td>Travel_Rarely</td>\n",
       "      <td>Sales</td>\n",
       "      <td>1</td>\n",
       "      <td>2</td>\n",
       "      <td>Life Sciences</td>\n",
       "      <td>2</td>\n",
       "      <td>94</td>\n",
       "      <td>3</td>\n",
       "      <td>...</td>\n",
       "      <td>3</td>\n",
       "      <td>1</td>\n",
       "      <td>0</td>\n",
       "      <td>8</td>\n",
       "      <td>0</td>\n",
       "      <td>1</td>\n",
       "      <td>6</td>\n",
       "      <td>4</td>\n",
       "      <td>0</td>\n",
       "      <td>5</td>\n",
       "    </tr>\n",
       "    <tr>\n",
       "      <th>1</th>\n",
       "      <td>49</td>\n",
       "      <td>No</td>\n",
       "      <td>Travel_Frequently</td>\n",
       "      <td>Research &amp; Development</td>\n",
       "      <td>8</td>\n",
       "      <td>1</td>\n",
       "      <td>Life Sciences</td>\n",
       "      <td>3</td>\n",
       "      <td>61</td>\n",
       "      <td>2</td>\n",
       "      <td>...</td>\n",
       "      <td>4</td>\n",
       "      <td>4</td>\n",
       "      <td>1</td>\n",
       "      <td>10</td>\n",
       "      <td>3</td>\n",
       "      <td>3</td>\n",
       "      <td>10</td>\n",
       "      <td>7</td>\n",
       "      <td>1</td>\n",
       "      <td>7</td>\n",
       "    </tr>\n",
       "    <tr>\n",
       "      <th>2</th>\n",
       "      <td>37</td>\n",
       "      <td>Yes</td>\n",
       "      <td>Travel_Rarely</td>\n",
       "      <td>Research &amp; Development</td>\n",
       "      <td>2</td>\n",
       "      <td>2</td>\n",
       "      <td>Other</td>\n",
       "      <td>4</td>\n",
       "      <td>92</td>\n",
       "      <td>2</td>\n",
       "      <td>...</td>\n",
       "      <td>3</td>\n",
       "      <td>2</td>\n",
       "      <td>0</td>\n",
       "      <td>7</td>\n",
       "      <td>3</td>\n",
       "      <td>3</td>\n",
       "      <td>0</td>\n",
       "      <td>0</td>\n",
       "      <td>0</td>\n",
       "      <td>0</td>\n",
       "    </tr>\n",
       "    <tr>\n",
       "      <th>3</th>\n",
       "      <td>33</td>\n",
       "      <td>No</td>\n",
       "      <td>Travel_Frequently</td>\n",
       "      <td>Research &amp; Development</td>\n",
       "      <td>3</td>\n",
       "      <td>4</td>\n",
       "      <td>Life Sciences</td>\n",
       "      <td>4</td>\n",
       "      <td>56</td>\n",
       "      <td>3</td>\n",
       "      <td>...</td>\n",
       "      <td>3</td>\n",
       "      <td>3</td>\n",
       "      <td>0</td>\n",
       "      <td>8</td>\n",
       "      <td>3</td>\n",
       "      <td>3</td>\n",
       "      <td>8</td>\n",
       "      <td>7</td>\n",
       "      <td>3</td>\n",
       "      <td>0</td>\n",
       "    </tr>\n",
       "    <tr>\n",
       "      <th>4</th>\n",
       "      <td>27</td>\n",
       "      <td>No</td>\n",
       "      <td>Travel_Rarely</td>\n",
       "      <td>Research &amp; Development</td>\n",
       "      <td>2</td>\n",
       "      <td>1</td>\n",
       "      <td>Medical</td>\n",
       "      <td>1</td>\n",
       "      <td>40</td>\n",
       "      <td>3</td>\n",
       "      <td>...</td>\n",
       "      <td>3</td>\n",
       "      <td>4</td>\n",
       "      <td>1</td>\n",
       "      <td>6</td>\n",
       "      <td>3</td>\n",
       "      <td>3</td>\n",
       "      <td>2</td>\n",
       "      <td>2</td>\n",
       "      <td>2</td>\n",
       "      <td>2</td>\n",
       "    </tr>\n",
       "  </tbody>\n",
       "</table>\n",
       "<p>5 rows × 27 columns</p>\n",
       "</div>"
      ],
      "text/plain": [
       "   Age Attrition     BusinessTravel              Department  DistanceFromHome  \\\n",
       "0   41       Yes      Travel_Rarely                   Sales                 1   \n",
       "1   49        No  Travel_Frequently  Research & Development                 8   \n",
       "2   37       Yes      Travel_Rarely  Research & Development                 2   \n",
       "3   33        No  Travel_Frequently  Research & Development                 3   \n",
       "4   27        No      Travel_Rarely  Research & Development                 2   \n",
       "\n",
       "   Education EducationField  EnvironmentSatisfaction  HourlyRate  \\\n",
       "0          2  Life Sciences                        2          94   \n",
       "1          1  Life Sciences                        3          61   \n",
       "2          2          Other                        4          92   \n",
       "3          4  Life Sciences                        4          56   \n",
       "4          1        Medical                        1          40   \n",
       "\n",
       "   JobInvolvement  ...  PerformanceRating RelationshipSatisfaction  \\\n",
       "0               3  ...                  3                        1   \n",
       "1               2  ...                  4                        4   \n",
       "2               2  ...                  3                        2   \n",
       "3               3  ...                  3                        3   \n",
       "4               3  ...                  3                        4   \n",
       "\n",
       "   StockOptionLevel TotalWorkingYears  TrainingTimesLastYear WorkLifeBalance  \\\n",
       "0                 0                 8                      0               1   \n",
       "1                 1                10                      3               3   \n",
       "2                 0                 7                      3               3   \n",
       "3                 0                 8                      3               3   \n",
       "4                 1                 6                      3               3   \n",
       "\n",
       "   YearsAtCompany  YearsInCurrentRole  YearsSinceLastPromotion  \\\n",
       "0               6                   4                        0   \n",
       "1              10                   7                        1   \n",
       "2               0                   0                        0   \n",
       "3               8                   7                        3   \n",
       "4               2                   2                        2   \n",
       "\n",
       "   YearsWithCurrManager  \n",
       "0                     5  \n",
       "1                     7  \n",
       "2                     0  \n",
       "3                     0  \n",
       "4                     2  \n",
       "\n",
       "[5 rows x 27 columns]"
      ]
     },
     "execution_count": 1,
     "metadata": {},
     "output_type": "execute_result"
    }
   ],
   "source": [
    "# Import our dependencies\n",
    "from sklearn.model_selection import train_test_split\n",
    "from sklearn.preprocessing import StandardScaler\n",
    "import pandas as pd\n",
    "import numpy as np\n",
    "from tensorflow.keras.models import Model\n",
    "from tensorflow.keras import layers\n",
    "\n",
    "#  Import and read the attrition data\n",
    "attrition_df = pd.read_csv('https://static.bc-edx.com/ai/ail-v-1-0/m19/lms/datasets/attrition.csv')\n",
    "attrition_df.head()"
   ]
  },
  {
   "cell_type": "code",
   "execution_count": 2,
   "metadata": {
    "colab": {
     "base_uri": "https://localhost:8080/",
     "height": 930
    },
    "executionInfo": {
     "elapsed": 10,
     "status": "ok",
     "timestamp": 1730699226906,
     "user": {
      "displayName": "Alexander Booth",
      "userId": "02269714993535573104"
     },
     "user_tz": 360
    },
    "id": "g22aQSY4Gc3Q",
    "outputId": "e8b68509-45d8-42e0-a9db-1bdce48e4b2d"
   },
   "outputs": [
    {
     "data": {
      "text/plain": [
       "Age                         43\n",
       "Attrition                    2\n",
       "BusinessTravel               3\n",
       "Department                   3\n",
       "DistanceFromHome            29\n",
       "Education                    5\n",
       "EducationField               6\n",
       "EnvironmentSatisfaction      4\n",
       "HourlyRate                  71\n",
       "JobInvolvement               4\n",
       "JobLevel                     5\n",
       "JobRole                      9\n",
       "JobSatisfaction              4\n",
       "MaritalStatus                3\n",
       "NumCompaniesWorked          10\n",
       "OverTime                     2\n",
       "PercentSalaryHike           15\n",
       "PerformanceRating            2\n",
       "RelationshipSatisfaction     4\n",
       "StockOptionLevel             4\n",
       "TotalWorkingYears           40\n",
       "TrainingTimesLastYear        7\n",
       "WorkLifeBalance              4\n",
       "YearsAtCompany              37\n",
       "YearsInCurrentRole          19\n",
       "YearsSinceLastPromotion     16\n",
       "YearsWithCurrManager        18\n",
       "dtype: int64"
      ]
     },
     "execution_count": 2,
     "metadata": {},
     "output_type": "execute_result"
    }
   ],
   "source": [
    "# Determine the number of unique values in each column\n",
    "attrition_df.nunique()"
   ]
  },
  {
   "cell_type": "code",
   "execution_count": 3,
   "metadata": {
    "executionInfo": {
     "elapsed": 7,
     "status": "ok",
     "timestamp": 1730699226906,
     "user": {
      "displayName": "Alexander Booth",
      "userId": "02269714993535573104"
     },
     "user_tz": 360
    },
    "id": "50vMgBEnJbfM"
   },
   "outputs": [],
   "source": [
    "# Create y_df with the Attrition and Department columns\n",
    "y_df = attrition_df[['Attrition', 'Department']]"
   ]
  },
  {
   "cell_type": "code",
   "execution_count": 4,
   "metadata": {
    "colab": {
     "base_uri": "https://localhost:8080/",
     "height": 397
    },
    "executionInfo": {
     "elapsed": 125,
     "status": "ok",
     "timestamp": 1730699227025,
     "user": {
      "displayName": "Alexander Booth",
      "userId": "02269714993535573104"
     },
     "user_tz": 360
    },
    "id": "Virka0zLGc3R",
    "outputId": "24f181c9-7e2e-42cb-94e8-a75842f1ab01"
   },
   "outputs": [
    {
     "data": {
      "text/plain": [
       "Age                         int64\n",
       "DistanceFromHome            int64\n",
       "Education                   int64\n",
       "EnvironmentSatisfaction     int64\n",
       "HourlyRate                  int64\n",
       "JobInvolvement              int64\n",
       "JobSatisfaction             int64\n",
       "NumCompaniesWorked          int64\n",
       "OverTime                   object\n",
       "StockOptionLevel            int64\n",
       "dtype: object"
      ]
     },
     "execution_count": 4,
     "metadata": {},
     "output_type": "execute_result"
    }
   ],
   "source": [
    "# Create a list of at least 10 column names to use as X data\n",
    "X_columns = ['Age', 'DistanceFromHome', 'Education', 'EnvironmentSatisfaction', 'HourlyRate',\n",
    "             'JobInvolvement', 'JobSatisfaction', 'NumCompaniesWorked', 'OverTime', 'StockOptionLevel']\n",
    "# Create X_df using your selected columns\n",
    "X_df = attrition_df[X_columns]\n",
    "\n",
    "# Show the data types for X_df\n",
    "X_df.dtypes"
   ]
  },
  {
   "cell_type": "code",
   "execution_count": 10,
   "metadata": {},
   "outputs": [
    {
     "name": "stderr",
     "output_type": "stream",
     "text": [
      "C:\\Users\\brown\\AppData\\Local\\Temp\\ipykernel_39800\\1767932470.py:3: SettingWithCopyWarning: \n",
      "A value is trying to be set on a copy of a slice from a DataFrame.\n",
      "Try using .loc[row_indexer,col_indexer] = value instead\n",
      "\n",
      "See the caveats in the documentation: https://pandas.pydata.org/pandas-docs/stable/user_guide/indexing.html#returning-a-view-versus-a-copy\n",
      "  X_df[\"OverTime\"] = X_df[\"OverTime\"].apply(lambda x: 1 if x == \"Yes\" else 0)\n"
     ]
    }
   ],
   "source": [
    "# Convert your X data to numeric data types however you see fit\n",
    "# Add new code cells as necessary\n",
    "X_df[\"OverTime\"] = X_df[\"OverTime\"].apply(lambda x: 1 if x == \"Yes\" else 0)"
   ]
  },
  {
   "cell_type": "code",
   "execution_count": 11,
   "metadata": {
    "executionInfo": {
     "elapsed": 9,
     "status": "ok",
     "timestamp": 1730699227025,
     "user": {
      "displayName": "Alexander Booth",
      "userId": "02269714993535573104"
     },
     "user_tz": 360
    },
    "id": "KaJfdOGUMHMR"
   },
   "outputs": [],
   "source": [
    "# Split the data into training and testing sets\n",
    "from sklearn.model_selection import train_test_split\n",
    "X_train, X_test, y_train, y_test = train_test_split(X_df, y_df, test_size=0.2, random_state=42)"
   ]
  },
  {
   "cell_type": "code",
   "execution_count": 12,
   "metadata": {
    "executionInfo": {
     "elapsed": 6,
     "status": "ok",
     "timestamp": 1730699227162,
     "user": {
      "displayName": "Alexander Booth",
      "userId": "02269714993535573104"
     },
     "user_tz": 360
    },
    "id": "EWA-aIA5Gc3T"
   },
   "outputs": [],
   "source": [
    "# Create a StandardScaler\n",
    "scaler = StandardScaler()\n",
    "\n",
    "# Fit the StandardScaler to the training data\n",
    "X_train_scaled = scaler.fit_transform(X_train)\n",
    "\n",
    "# Scale the training and testing data\n",
    "X_test_scaled = scaler.transform(X_test)"
   ]
  },
  {
   "cell_type": "code",
   "execution_count": 14,
   "metadata": {
    "colab": {
     "base_uri": "https://localhost:8080/"
    },
    "executionInfo": {
     "elapsed": 99,
     "status": "ok",
     "timestamp": 1730699227256,
     "user": {
      "displayName": "Alexander Booth",
      "userId": "02269714993535573104"
     },
     "user_tz": 360
    },
    "id": "-z0Mky8vQSz4",
    "outputId": "5024d63f-7e4e-4a91-fb76-0b2c79c1bcfb"
   },
   "outputs": [],
   "source": [
    "from sklearn.preprocessing import OneHotEncoder\n",
    "\n",
    "# Create a OneHotEncoder for the Department column\n",
    "OHE_dept = OneHotEncoder(sparse_output=False, handle_unknown='ignore')\n",
    "\n",
    "# Fit the encoder to the training data\n",
    "OHE_dept.fit(y_train[['Department']])\n",
    "\n",
    "# Create two new variables by applying the encoder\n",
    "# to the training and testing data\n",
    "y_train_dept_encoded = OHE_dept.transform(y_train[['Department']])\n",
    "y_test_dept_encoded = OHE_dept.transform(y_test[['Department']])"
   ]
  },
  {
   "cell_type": "code",
   "execution_count": 16,
   "metadata": {
    "colab": {
     "base_uri": "https://localhost:8080/"
    },
    "executionInfo": {
     "elapsed": 5,
     "status": "ok",
     "timestamp": 1730699227257,
     "user": {
      "displayName": "Alexander Booth",
      "userId": "02269714993535573104"
     },
     "user_tz": 360
    },
    "id": "-G4DSpvFRrk4",
    "outputId": "1821049e-a4f0-437f-b8a7-e415431fbdb0"
   },
   "outputs": [],
   "source": [
    "# Create a OneHotEncoder for the Attrition column\n",
    "OHE_attrition = OneHotEncoder(sparse_output=False, handle_unknown='ignore')\n",
    "\n",
    "# Fit the encoder to the training data\n",
    "OHE_attrition.fit(y_train[['Attrition']])\n",
    "\n",
    "# Create two new variables by applying the encoder\n",
    "# to the training and testing data\n",
    "y_train_attr_encoded = OHE_attrition.transform(y_train[['Attrition']])\n",
    "y_test_attr_encoded = OHE_attrition.transform(y_test[['Attrition']])"
   ]
  },
  {
   "cell_type": "markdown",
   "metadata": {
    "id": "ykNmu_WWGc3T"
   },
   "source": [
    "## Part 2: Create, Compile, and Train the Model"
   ]
  },
  {
   "cell_type": "code",
   "execution_count": 17,
   "metadata": {
    "executionInfo": {
     "elapsed": 309,
     "status": "ok",
     "timestamp": 1730699227563,
     "user": {
      "displayName": "Alexander Booth",
      "userId": "02269714993535573104"
     },
     "user_tz": 360
    },
    "id": "WUptZqmSGc3T"
   },
   "outputs": [],
   "source": [
    "# Find the number of columns in the X training data.\n",
    "input_shape = X_train_scaled.shape[1]\n",
    "\n",
    "# Create the input layer\n",
    "input_layer = layers.Input(shape=(input_shape,))\n",
    "\n",
    "# Create at least two shared layers\n",
    "hidden_layer1 = layers.Dense(64, activation='relu')(input_layer)\n",
    "hidden_layer2 = layers.Dense(32, activation='relu')(hidden_layer1)"
   ]
  },
  {
   "cell_type": "code",
   "execution_count": 18,
   "metadata": {
    "executionInfo": {
     "elapsed": 118,
     "status": "ok",
     "timestamp": 1730699227678,
     "user": {
      "displayName": "Alexander Booth",
      "userId": "02269714993535573104"
     },
     "user_tz": 360
    },
    "id": "JukjTm2yTEqd"
   },
   "outputs": [],
   "source": [
    "# Create a branch for Department\n",
    "# with a hidden layer and an output layer\n",
    "\n",
    "# Create the hidden layer\n",
    "dept_hidden = layers.Dense(16, activation='relu')(hidden_layer2)\n",
    "\n",
    "# Create the output layer\n",
    "dept_output = layers.Dense(y_train_dept_encoded.shape[1], activation='softmax', name='dept_output')(dept_hidden)\n"
   ]
  },
  {
   "cell_type": "code",
   "execution_count": 19,
   "metadata": {
    "executionInfo": {
     "elapsed": 9,
     "status": "ok",
     "timestamp": 1730699227679,
     "user": {
      "displayName": "Alexander Booth",
      "userId": "02269714993535573104"
     },
     "user_tz": 360
    },
    "id": "9OqhUiOJUBkR"
   },
   "outputs": [],
   "source": [
    "# Create a branch for Attrition\n",
    "# with a hidden layer and an output layer\n",
    "\n",
    "# Create the hidden layer\n",
    "attr_hidden = layers.Dense(16, activation='relu')(hidden_layer2)\n",
    "\n",
    "# Create the output layer\n",
    "attr_output = layers.Dense(y_train_attr_encoded.shape[1], activation='sigmoid', name='attr_output')(attr_hidden)\n"
   ]
  },
  {
   "cell_type": "code",
   "execution_count": 20,
   "metadata": {
    "colab": {
     "base_uri": "https://localhost:8080/",
     "height": 361
    },
    "executionInfo": {
     "elapsed": 108,
     "status": "ok",
     "timestamp": 1730699227780,
     "user": {
      "displayName": "Alexander Booth",
      "userId": "02269714993535573104"
     },
     "user_tz": 360
    },
    "id": "twmuejdxGc3T",
    "outputId": "dd9ce242-6a66-4709-ba13-4b13551c22e0"
   },
   "outputs": [
    {
     "data": {
      "text/html": [
       "<pre style=\"white-space:pre;overflow-x:auto;line-height:normal;font-family:Menlo,'DejaVu Sans Mono',consolas,'Courier New',monospace\"><span style=\"font-weight: bold\">Model: \"functional\"</span>\n",
       "</pre>\n"
      ],
      "text/plain": [
       "\u001b[1mModel: \"functional\"\u001b[0m\n"
      ]
     },
     "metadata": {},
     "output_type": "display_data"
    },
    {
     "data": {
      "text/html": [
       "<pre style=\"white-space:pre;overflow-x:auto;line-height:normal;font-family:Menlo,'DejaVu Sans Mono',consolas,'Courier New',monospace\">┏━━━━━━━━━━━━━━━━━━━━━┳━━━━━━━━━━━━━━━━━━━┳━━━━━━━━━━━━┳━━━━━━━━━━━━━━━━━━━┓\n",
       "┃<span style=\"font-weight: bold\"> Layer (type)        </span>┃<span style=\"font-weight: bold\"> Output Shape      </span>┃<span style=\"font-weight: bold\">    Param # </span>┃<span style=\"font-weight: bold\"> Connected to      </span>┃\n",
       "┡━━━━━━━━━━━━━━━━━━━━━╇━━━━━━━━━━━━━━━━━━━╇━━━━━━━━━━━━╇━━━━━━━━━━━━━━━━━━━┩\n",
       "│ input_layer         │ (<span style=\"color: #00d7ff; text-decoration-color: #00d7ff\">None</span>, <span style=\"color: #00af00; text-decoration-color: #00af00\">10</span>)        │          <span style=\"color: #00af00; text-decoration-color: #00af00\">0</span> │ -                 │\n",
       "│ (<span style=\"color: #0087ff; text-decoration-color: #0087ff\">InputLayer</span>)        │                   │            │                   │\n",
       "├─────────────────────┼───────────────────┼────────────┼───────────────────┤\n",
       "│ dense (<span style=\"color: #0087ff; text-decoration-color: #0087ff\">Dense</span>)       │ (<span style=\"color: #00d7ff; text-decoration-color: #00d7ff\">None</span>, <span style=\"color: #00af00; text-decoration-color: #00af00\">64</span>)        │        <span style=\"color: #00af00; text-decoration-color: #00af00\">704</span> │ input_layer[<span style=\"color: #00af00; text-decoration-color: #00af00\">0</span>][<span style=\"color: #00af00; text-decoration-color: #00af00\">0</span>] │\n",
       "├─────────────────────┼───────────────────┼────────────┼───────────────────┤\n",
       "│ dense_1 (<span style=\"color: #0087ff; text-decoration-color: #0087ff\">Dense</span>)     │ (<span style=\"color: #00d7ff; text-decoration-color: #00d7ff\">None</span>, <span style=\"color: #00af00; text-decoration-color: #00af00\">32</span>)        │      <span style=\"color: #00af00; text-decoration-color: #00af00\">2,080</span> │ dense[<span style=\"color: #00af00; text-decoration-color: #00af00\">0</span>][<span style=\"color: #00af00; text-decoration-color: #00af00\">0</span>]       │\n",
       "├─────────────────────┼───────────────────┼────────────┼───────────────────┤\n",
       "│ dense_2 (<span style=\"color: #0087ff; text-decoration-color: #0087ff\">Dense</span>)     │ (<span style=\"color: #00d7ff; text-decoration-color: #00d7ff\">None</span>, <span style=\"color: #00af00; text-decoration-color: #00af00\">16</span>)        │        <span style=\"color: #00af00; text-decoration-color: #00af00\">528</span> │ dense_1[<span style=\"color: #00af00; text-decoration-color: #00af00\">0</span>][<span style=\"color: #00af00; text-decoration-color: #00af00\">0</span>]     │\n",
       "├─────────────────────┼───────────────────┼────────────┼───────────────────┤\n",
       "│ dense_3 (<span style=\"color: #0087ff; text-decoration-color: #0087ff\">Dense</span>)     │ (<span style=\"color: #00d7ff; text-decoration-color: #00d7ff\">None</span>, <span style=\"color: #00af00; text-decoration-color: #00af00\">16</span>)        │        <span style=\"color: #00af00; text-decoration-color: #00af00\">528</span> │ dense_1[<span style=\"color: #00af00; text-decoration-color: #00af00\">0</span>][<span style=\"color: #00af00; text-decoration-color: #00af00\">0</span>]     │\n",
       "├─────────────────────┼───────────────────┼────────────┼───────────────────┤\n",
       "│ dept_output (<span style=\"color: #0087ff; text-decoration-color: #0087ff\">Dense</span>) │ (<span style=\"color: #00d7ff; text-decoration-color: #00d7ff\">None</span>, <span style=\"color: #00af00; text-decoration-color: #00af00\">3</span>)         │         <span style=\"color: #00af00; text-decoration-color: #00af00\">51</span> │ dense_2[<span style=\"color: #00af00; text-decoration-color: #00af00\">0</span>][<span style=\"color: #00af00; text-decoration-color: #00af00\">0</span>]     │\n",
       "├─────────────────────┼───────────────────┼────────────┼───────────────────┤\n",
       "│ attr_output (<span style=\"color: #0087ff; text-decoration-color: #0087ff\">Dense</span>) │ (<span style=\"color: #00d7ff; text-decoration-color: #00d7ff\">None</span>, <span style=\"color: #00af00; text-decoration-color: #00af00\">2</span>)         │         <span style=\"color: #00af00; text-decoration-color: #00af00\">34</span> │ dense_3[<span style=\"color: #00af00; text-decoration-color: #00af00\">0</span>][<span style=\"color: #00af00; text-decoration-color: #00af00\">0</span>]     │\n",
       "└─────────────────────┴───────────────────┴────────────┴───────────────────┘\n",
       "</pre>\n"
      ],
      "text/plain": [
       "┏━━━━━━━━━━━━━━━━━━━━━┳━━━━━━━━━━━━━━━━━━━┳━━━━━━━━━━━━┳━━━━━━━━━━━━━━━━━━━┓\n",
       "┃\u001b[1m \u001b[0m\u001b[1mLayer (type)       \u001b[0m\u001b[1m \u001b[0m┃\u001b[1m \u001b[0m\u001b[1mOutput Shape     \u001b[0m\u001b[1m \u001b[0m┃\u001b[1m \u001b[0m\u001b[1m   Param #\u001b[0m\u001b[1m \u001b[0m┃\u001b[1m \u001b[0m\u001b[1mConnected to     \u001b[0m\u001b[1m \u001b[0m┃\n",
       "┡━━━━━━━━━━━━━━━━━━━━━╇━━━━━━━━━━━━━━━━━━━╇━━━━━━━━━━━━╇━━━━━━━━━━━━━━━━━━━┩\n",
       "│ input_layer         │ (\u001b[38;5;45mNone\u001b[0m, \u001b[38;5;34m10\u001b[0m)        │          \u001b[38;5;34m0\u001b[0m │ -                 │\n",
       "│ (\u001b[38;5;33mInputLayer\u001b[0m)        │                   │            │                   │\n",
       "├─────────────────────┼───────────────────┼────────────┼───────────────────┤\n",
       "│ dense (\u001b[38;5;33mDense\u001b[0m)       │ (\u001b[38;5;45mNone\u001b[0m, \u001b[38;5;34m64\u001b[0m)        │        \u001b[38;5;34m704\u001b[0m │ input_layer[\u001b[38;5;34m0\u001b[0m][\u001b[38;5;34m0\u001b[0m] │\n",
       "├─────────────────────┼───────────────────┼────────────┼───────────────────┤\n",
       "│ dense_1 (\u001b[38;5;33mDense\u001b[0m)     │ (\u001b[38;5;45mNone\u001b[0m, \u001b[38;5;34m32\u001b[0m)        │      \u001b[38;5;34m2,080\u001b[0m │ dense[\u001b[38;5;34m0\u001b[0m][\u001b[38;5;34m0\u001b[0m]       │\n",
       "├─────────────────────┼───────────────────┼────────────┼───────────────────┤\n",
       "│ dense_2 (\u001b[38;5;33mDense\u001b[0m)     │ (\u001b[38;5;45mNone\u001b[0m, \u001b[38;5;34m16\u001b[0m)        │        \u001b[38;5;34m528\u001b[0m │ dense_1[\u001b[38;5;34m0\u001b[0m][\u001b[38;5;34m0\u001b[0m]     │\n",
       "├─────────────────────┼───────────────────┼────────────┼───────────────────┤\n",
       "│ dense_3 (\u001b[38;5;33mDense\u001b[0m)     │ (\u001b[38;5;45mNone\u001b[0m, \u001b[38;5;34m16\u001b[0m)        │        \u001b[38;5;34m528\u001b[0m │ dense_1[\u001b[38;5;34m0\u001b[0m][\u001b[38;5;34m0\u001b[0m]     │\n",
       "├─────────────────────┼───────────────────┼────────────┼───────────────────┤\n",
       "│ dept_output (\u001b[38;5;33mDense\u001b[0m) │ (\u001b[38;5;45mNone\u001b[0m, \u001b[38;5;34m3\u001b[0m)         │         \u001b[38;5;34m51\u001b[0m │ dense_2[\u001b[38;5;34m0\u001b[0m][\u001b[38;5;34m0\u001b[0m]     │\n",
       "├─────────────────────┼───────────────────┼────────────┼───────────────────┤\n",
       "│ attr_output (\u001b[38;5;33mDense\u001b[0m) │ (\u001b[38;5;45mNone\u001b[0m, \u001b[38;5;34m2\u001b[0m)         │         \u001b[38;5;34m34\u001b[0m │ dense_3[\u001b[38;5;34m0\u001b[0m][\u001b[38;5;34m0\u001b[0m]     │\n",
       "└─────────────────────┴───────────────────┴────────────┴───────────────────┘\n"
      ]
     },
     "metadata": {},
     "output_type": "display_data"
    },
    {
     "data": {
      "text/html": [
       "<pre style=\"white-space:pre;overflow-x:auto;line-height:normal;font-family:Menlo,'DejaVu Sans Mono',consolas,'Courier New',monospace\"><span style=\"font-weight: bold\"> Total params: </span><span style=\"color: #00af00; text-decoration-color: #00af00\">3,925</span> (15.33 KB)\n",
       "</pre>\n"
      ],
      "text/plain": [
       "\u001b[1m Total params: \u001b[0m\u001b[38;5;34m3,925\u001b[0m (15.33 KB)\n"
      ]
     },
     "metadata": {},
     "output_type": "display_data"
    },
    {
     "data": {
      "text/html": [
       "<pre style=\"white-space:pre;overflow-x:auto;line-height:normal;font-family:Menlo,'DejaVu Sans Mono',consolas,'Courier New',monospace\"><span style=\"font-weight: bold\"> Trainable params: </span><span style=\"color: #00af00; text-decoration-color: #00af00\">3,925</span> (15.33 KB)\n",
       "</pre>\n"
      ],
      "text/plain": [
       "\u001b[1m Trainable params: \u001b[0m\u001b[38;5;34m3,925\u001b[0m (15.33 KB)\n"
      ]
     },
     "metadata": {},
     "output_type": "display_data"
    },
    {
     "data": {
      "text/html": [
       "<pre style=\"white-space:pre;overflow-x:auto;line-height:normal;font-family:Menlo,'DejaVu Sans Mono',consolas,'Courier New',monospace\"><span style=\"font-weight: bold\"> Non-trainable params: </span><span style=\"color: #00af00; text-decoration-color: #00af00\">0</span> (0.00 B)\n",
       "</pre>\n"
      ],
      "text/plain": [
       "\u001b[1m Non-trainable params: \u001b[0m\u001b[38;5;34m0\u001b[0m (0.00 B)\n"
      ]
     },
     "metadata": {},
     "output_type": "display_data"
    }
   ],
   "source": [
    "# Create the model\n",
    "model = Model(inputs=input_layer, outputs=[dept_output, attr_output])\n",
    "\n",
    "# Compile the model\n",
    "model.compile(optimizer='adam',\n",
    "              loss={'dept_output': 'categorical_crossentropy', 'attr_output': 'binary_crossentropy'},\n",
    "              metrics={'dept_output': 'accuracy', 'attr_output': 'accuracy'})\n",
    "\n",
    "\n",
    "# Summarize the model\n",
    "model.summary()"
   ]
  },
  {
   "cell_type": "code",
   "execution_count": 21,
   "metadata": {
    "colab": {
     "base_uri": "https://localhost:8080/"
    },
    "executionInfo": {
     "elapsed": 31740,
     "status": "ok",
     "timestamp": 1730699259517,
     "user": {
      "displayName": "Alexander Booth",
      "userId": "02269714993535573104"
     },
     "user_tz": 360
    },
    "id": "c8oGy0dpGc3U",
    "outputId": "f48a5292-426f-4715-ea6e-381a8e9d5542"
   },
   "outputs": [
    {
     "name": "stdout",
     "output_type": "stream",
     "text": [
      "Epoch 1/50\n",
      "\u001b[1m37/37\u001b[0m \u001b[32m━━━━━━━━━━━━━━━━━━━━\u001b[0m\u001b[37m\u001b[0m \u001b[1m3s\u001b[0m 17ms/step - attr_output_accuracy: 0.7467 - attr_output_loss: 0.6441 - dept_output_accuracy: 0.4227 - dept_output_loss: 1.0542 - loss: 1.6985 - val_attr_output_accuracy: 0.8673 - val_attr_output_loss: 0.4564 - val_dept_output_accuracy: 0.6667 - val_dept_output_loss: 0.8283 - val_loss: 1.2918\n",
      "Epoch 2/50\n",
      "\u001b[1m37/37\u001b[0m \u001b[32m━━━━━━━━━━━━━━━━━━━━\u001b[0m\u001b[37m\u001b[0m \u001b[1m0s\u001b[0m 6ms/step - attr_output_accuracy: 0.8235 - attr_output_loss: 0.4889 - dept_output_accuracy: 0.6236 - dept_output_loss: 0.8298 - loss: 1.3188 - val_attr_output_accuracy: 0.8673 - val_attr_output_loss: 0.3751 - val_dept_output_accuracy: 0.6667 - val_dept_output_loss: 0.7719 - val_loss: 1.1659\n",
      "Epoch 3/50\n",
      "\u001b[1m37/37\u001b[0m \u001b[32m━━━━━━━━━━━━━━━━━━━━\u001b[0m\u001b[37m\u001b[0m \u001b[1m0s\u001b[0m 7ms/step - attr_output_accuracy: 0.8219 - attr_output_loss: 0.4628 - dept_output_accuracy: 0.6650 - dept_output_loss: 0.7516 - loss: 1.2144 - val_attr_output_accuracy: 0.8673 - val_attr_output_loss: 0.3754 - val_dept_output_accuracy: 0.6667 - val_dept_output_loss: 0.7722 - val_loss: 1.1649\n",
      "Epoch 4/50\n",
      "\u001b[1m37/37\u001b[0m \u001b[32m━━━━━━━━━━━━━━━━━━━━\u001b[0m\u001b[37m\u001b[0m \u001b[1m0s\u001b[0m 5ms/step - attr_output_accuracy: 0.8224 - attr_output_loss: 0.4461 - dept_output_accuracy: 0.6520 - dept_output_loss: 0.7839 - loss: 1.2300 - val_attr_output_accuracy: 0.8673 - val_attr_output_loss: 0.3647 - val_dept_output_accuracy: 0.6667 - val_dept_output_loss: 0.7679 - val_loss: 1.1502\n",
      "Epoch 5/50\n",
      "\u001b[1m37/37\u001b[0m \u001b[32m━━━━━━━━━━━━━━━━━━━━\u001b[0m\u001b[37m\u001b[0m \u001b[1m0s\u001b[0m 5ms/step - attr_output_accuracy: 0.8045 - attr_output_loss: 0.4688 - dept_output_accuracy: 0.6427 - dept_output_loss: 0.7918 - loss: 1.2606 - val_attr_output_accuracy: 0.8673 - val_attr_output_loss: 0.3556 - val_dept_output_accuracy: 0.6667 - val_dept_output_loss: 0.7687 - val_loss: 1.1433\n",
      "Epoch 6/50\n",
      "\u001b[1m37/37\u001b[0m \u001b[32m━━━━━━━━━━━━━━━━━━━━\u001b[0m\u001b[37m\u001b[0m \u001b[1m0s\u001b[0m 6ms/step - attr_output_accuracy: 0.8288 - attr_output_loss: 0.4308 - dept_output_accuracy: 0.6448 - dept_output_loss: 0.7533 - loss: 1.1840 - val_attr_output_accuracy: 0.8673 - val_attr_output_loss: 0.3541 - val_dept_output_accuracy: 0.6667 - val_dept_output_loss: 0.7709 - val_loss: 1.1431\n",
      "Epoch 7/50\n",
      "\u001b[1m37/37\u001b[0m \u001b[32m━━━━━━━━━━━━━━━━━━━━\u001b[0m\u001b[37m\u001b[0m \u001b[1m0s\u001b[0m 5ms/step - attr_output_accuracy: 0.8215 - attr_output_loss: 0.4156 - dept_output_accuracy: 0.6155 - dept_output_loss: 0.8034 - loss: 1.2190 - val_attr_output_accuracy: 0.8673 - val_attr_output_loss: 0.3473 - val_dept_output_accuracy: 0.6667 - val_dept_output_loss: 0.7714 - val_loss: 1.1376\n",
      "Epoch 8/50\n",
      "\u001b[1m37/37\u001b[0m \u001b[32m━━━━━━━━━━━━━━━━━━━━\u001b[0m\u001b[37m\u001b[0m \u001b[1m0s\u001b[0m 5ms/step - attr_output_accuracy: 0.8303 - attr_output_loss: 0.4017 - dept_output_accuracy: 0.6684 - dept_output_loss: 0.7436 - loss: 1.1452 - val_attr_output_accuracy: 0.8673 - val_attr_output_loss: 0.3507 - val_dept_output_accuracy: 0.6667 - val_dept_output_loss: 0.7788 - val_loss: 1.1482\n",
      "Epoch 9/50\n",
      "\u001b[1m37/37\u001b[0m \u001b[32m━━━━━━━━━━━━━━━━━━━━\u001b[0m\u001b[37m\u001b[0m \u001b[1m0s\u001b[0m 6ms/step - attr_output_accuracy: 0.8340 - attr_output_loss: 0.4085 - dept_output_accuracy: 0.6444 - dept_output_loss: 0.7830 - loss: 1.1915 - val_attr_output_accuracy: 0.8673 - val_attr_output_loss: 0.3498 - val_dept_output_accuracy: 0.6667 - val_dept_output_loss: 0.7754 - val_loss: 1.1457\n",
      "Epoch 10/50\n",
      "\u001b[1m37/37\u001b[0m \u001b[32m━━━━━━━━━━━━━━━━━━━━\u001b[0m\u001b[37m\u001b[0m \u001b[1m0s\u001b[0m 8ms/step - attr_output_accuracy: 0.8531 - attr_output_loss: 0.3667 - dept_output_accuracy: 0.6672 - dept_output_loss: 0.7313 - loss: 1.0978 - val_attr_output_accuracy: 0.8605 - val_attr_output_loss: 0.3543 - val_dept_output_accuracy: 0.6667 - val_dept_output_loss: 0.7824 - val_loss: 1.1569\n",
      "Epoch 11/50\n",
      "\u001b[1m37/37\u001b[0m \u001b[32m━━━━━━━━━━━━━━━━━━━━\u001b[0m\u001b[37m\u001b[0m \u001b[1m0s\u001b[0m 7ms/step - attr_output_accuracy: 0.8397 - attr_output_loss: 0.3776 - dept_output_accuracy: 0.6369 - dept_output_loss: 0.7684 - loss: 1.1461 - val_attr_output_accuracy: 0.8673 - val_attr_output_loss: 0.3428 - val_dept_output_accuracy: 0.6667 - val_dept_output_loss: 0.7816 - val_loss: 1.1476\n",
      "Epoch 12/50\n",
      "\u001b[1m37/37\u001b[0m \u001b[32m━━━━━━━━━━━━━━━━━━━━\u001b[0m\u001b[37m\u001b[0m \u001b[1m0s\u001b[0m 5ms/step - attr_output_accuracy: 0.8394 - attr_output_loss: 0.3866 - dept_output_accuracy: 0.6583 - dept_output_loss: 0.7318 - loss: 1.1184 - val_attr_output_accuracy: 0.8571 - val_attr_output_loss: 0.3496 - val_dept_output_accuracy: 0.6667 - val_dept_output_loss: 0.7811 - val_loss: 1.1533\n",
      "Epoch 13/50\n",
      "\u001b[1m37/37\u001b[0m \u001b[32m━━━━━━━━━━━━━━━━━━━━\u001b[0m\u001b[37m\u001b[0m \u001b[1m0s\u001b[0m 6ms/step - attr_output_accuracy: 0.8241 - attr_output_loss: 0.4036 - dept_output_accuracy: 0.6321 - dept_output_loss: 0.7558 - loss: 1.1594 - val_attr_output_accuracy: 0.8707 - val_attr_output_loss: 0.3367 - val_dept_output_accuracy: 0.6667 - val_dept_output_loss: 0.7877 - val_loss: 1.1512\n",
      "Epoch 14/50\n",
      "\u001b[1m37/37\u001b[0m \u001b[32m━━━━━━━━━━━━━━━━━━━━\u001b[0m\u001b[37m\u001b[0m \u001b[1m0s\u001b[0m 6ms/step - attr_output_accuracy: 0.8320 - attr_output_loss: 0.3940 - dept_output_accuracy: 0.6443 - dept_output_loss: 0.7414 - loss: 1.1353 - val_attr_output_accuracy: 0.8571 - val_attr_output_loss: 0.3443 - val_dept_output_accuracy: 0.6667 - val_dept_output_loss: 0.7867 - val_loss: 1.1563\n",
      "Epoch 15/50\n",
      "\u001b[1m37/37\u001b[0m \u001b[32m━━━━━━━━━━━━━━━━━━━━\u001b[0m\u001b[37m\u001b[0m \u001b[1m0s\u001b[0m 6ms/step - attr_output_accuracy: 0.8382 - attr_output_loss: 0.3870 - dept_output_accuracy: 0.6447 - dept_output_loss: 0.7568 - loss: 1.1438 - val_attr_output_accuracy: 0.8503 - val_attr_output_loss: 0.3424 - val_dept_output_accuracy: 0.6667 - val_dept_output_loss: 0.7907 - val_loss: 1.1608\n",
      "Epoch 16/50\n",
      "\u001b[1m37/37\u001b[0m \u001b[32m━━━━━━━━━━━━━━━━━━━━\u001b[0m\u001b[37m\u001b[0m \u001b[1m0s\u001b[0m 6ms/step - attr_output_accuracy: 0.8454 - attr_output_loss: 0.3659 - dept_output_accuracy: 0.6427 - dept_output_loss: 0.7262 - loss: 1.0921 - val_attr_output_accuracy: 0.8571 - val_attr_output_loss: 0.3468 - val_dept_output_accuracy: 0.6633 - val_dept_output_loss: 0.7930 - val_loss: 1.1654\n",
      "Epoch 17/50\n",
      "\u001b[1m37/37\u001b[0m \u001b[32m━━━━━━━━━━━━━━━━━━━━\u001b[0m\u001b[37m\u001b[0m \u001b[1m0s\u001b[0m 8ms/step - attr_output_accuracy: 0.8676 - attr_output_loss: 0.3603 - dept_output_accuracy: 0.6618 - dept_output_loss: 0.7062 - loss: 1.0664 - val_attr_output_accuracy: 0.8571 - val_attr_output_loss: 0.3415 - val_dept_output_accuracy: 0.6667 - val_dept_output_loss: 0.7920 - val_loss: 1.1629\n",
      "Epoch 18/50\n",
      "\u001b[1m37/37\u001b[0m \u001b[32m━━━━━━━━━━━━━━━━━━━━\u001b[0m\u001b[37m\u001b[0m \u001b[1m0s\u001b[0m 8ms/step - attr_output_accuracy: 0.8721 - attr_output_loss: 0.3361 - dept_output_accuracy: 0.6710 - dept_output_loss: 0.7016 - loss: 1.0376 - val_attr_output_accuracy: 0.8605 - val_attr_output_loss: 0.3476 - val_dept_output_accuracy: 0.6599 - val_dept_output_loss: 0.7996 - val_loss: 1.1735\n",
      "Epoch 19/50\n",
      "\u001b[1m37/37\u001b[0m \u001b[32m━━━━━━━━━━━━━━━━━━━━\u001b[0m\u001b[37m\u001b[0m \u001b[1m0s\u001b[0m 7ms/step - attr_output_accuracy: 0.8458 - attr_output_loss: 0.3849 - dept_output_accuracy: 0.6575 - dept_output_loss: 0.7197 - loss: 1.1046 - val_attr_output_accuracy: 0.8605 - val_attr_output_loss: 0.3364 - val_dept_output_accuracy: 0.6565 - val_dept_output_loss: 0.8014 - val_loss: 1.1693\n",
      "Epoch 20/50\n",
      "\u001b[1m37/37\u001b[0m \u001b[32m━━━━━━━━━━━━━━━━━━━━\u001b[0m\u001b[37m\u001b[0m \u001b[1m0s\u001b[0m 7ms/step - attr_output_accuracy: 0.8564 - attr_output_loss: 0.3712 - dept_output_accuracy: 0.6493 - dept_output_loss: 0.7299 - loss: 1.1011 - val_attr_output_accuracy: 0.8639 - val_attr_output_loss: 0.3402 - val_dept_output_accuracy: 0.6565 - val_dept_output_loss: 0.8081 - val_loss: 1.1788\n",
      "Epoch 21/50\n",
      "\u001b[1m37/37\u001b[0m \u001b[32m━━━━━━━━━━━━━━━━━━━━\u001b[0m\u001b[37m\u001b[0m \u001b[1m0s\u001b[0m 9ms/step - attr_output_accuracy: 0.8677 - attr_output_loss: 0.3467 - dept_output_accuracy: 0.6531 - dept_output_loss: 0.7156 - loss: 1.0624 - val_attr_output_accuracy: 0.8673 - val_attr_output_loss: 0.3432 - val_dept_output_accuracy: 0.6497 - val_dept_output_loss: 0.8071 - val_loss: 1.1802\n",
      "Epoch 22/50\n",
      "\u001b[1m37/37\u001b[0m \u001b[32m━━━━━━━━━━━━━━━━━━━━\u001b[0m\u001b[37m\u001b[0m \u001b[1m0s\u001b[0m 6ms/step - attr_output_accuracy: 0.8395 - attr_output_loss: 0.3793 - dept_output_accuracy: 0.6619 - dept_output_loss: 0.7175 - loss: 1.0968 - val_attr_output_accuracy: 0.8605 - val_attr_output_loss: 0.3418 - val_dept_output_accuracy: 0.6565 - val_dept_output_loss: 0.8071 - val_loss: 1.1770\n",
      "Epoch 23/50\n",
      "\u001b[1m37/37\u001b[0m \u001b[32m━━━━━━━━━━━━━━━━━━━━\u001b[0m\u001b[37m\u001b[0m \u001b[1m0s\u001b[0m 6ms/step - attr_output_accuracy: 0.8394 - attr_output_loss: 0.3768 - dept_output_accuracy: 0.6447 - dept_output_loss: 0.7105 - loss: 1.0874 - val_attr_output_accuracy: 0.8707 - val_attr_output_loss: 0.3454 - val_dept_output_accuracy: 0.6565 - val_dept_output_loss: 0.8095 - val_loss: 1.1847\n",
      "Epoch 24/50\n",
      "\u001b[1m37/37\u001b[0m \u001b[32m━━━━━━━━━━━━━━━━━━━━\u001b[0m\u001b[37m\u001b[0m \u001b[1m0s\u001b[0m 5ms/step - attr_output_accuracy: 0.8524 - attr_output_loss: 0.3446 - dept_output_accuracy: 0.6627 - dept_output_loss: 0.6970 - loss: 1.0416 - val_attr_output_accuracy: 0.8639 - val_attr_output_loss: 0.3434 - val_dept_output_accuracy: 0.6429 - val_dept_output_loss: 0.8193 - val_loss: 1.1923\n",
      "Epoch 25/50\n",
      "\u001b[1m37/37\u001b[0m \u001b[32m━━━━━━━━━━━━━━━━━━━━\u001b[0m\u001b[37m\u001b[0m \u001b[1m0s\u001b[0m 6ms/step - attr_output_accuracy: 0.8502 - attr_output_loss: 0.3584 - dept_output_accuracy: 0.6731 - dept_output_loss: 0.6945 - loss: 1.0528 - val_attr_output_accuracy: 0.8673 - val_attr_output_loss: 0.3477 - val_dept_output_accuracy: 0.6463 - val_dept_output_loss: 0.8177 - val_loss: 1.1956\n",
      "Epoch 26/50\n",
      "\u001b[1m37/37\u001b[0m \u001b[32m━━━━━━━━━━━━━━━━━━━━\u001b[0m\u001b[37m\u001b[0m \u001b[1m0s\u001b[0m 6ms/step - attr_output_accuracy: 0.8732 - attr_output_loss: 0.3294 - dept_output_accuracy: 0.6722 - dept_output_loss: 0.6843 - loss: 1.0137 - val_attr_output_accuracy: 0.8605 - val_attr_output_loss: 0.3522 - val_dept_output_accuracy: 0.6361 - val_dept_output_loss: 0.8217 - val_loss: 1.2032\n",
      "Epoch 27/50\n",
      "\u001b[1m37/37\u001b[0m \u001b[32m━━━━━━━━━━━━━━━━━━━━\u001b[0m\u001b[37m\u001b[0m \u001b[1m0s\u001b[0m 6ms/step - attr_output_accuracy: 0.8634 - attr_output_loss: 0.3395 - dept_output_accuracy: 0.6729 - dept_output_loss: 0.6832 - loss: 1.0228 - val_attr_output_accuracy: 0.8639 - val_attr_output_loss: 0.3508 - val_dept_output_accuracy: 0.6599 - val_dept_output_loss: 0.8185 - val_loss: 1.2004\n",
      "Epoch 28/50\n",
      "\u001b[1m37/37\u001b[0m \u001b[32m━━━━━━━━━━━━━━━━━━━━\u001b[0m\u001b[37m\u001b[0m \u001b[1m0s\u001b[0m 7ms/step - attr_output_accuracy: 0.8661 - attr_output_loss: 0.3339 - dept_output_accuracy: 0.6837 - dept_output_loss: 0.6587 - loss: 0.9926 - val_attr_output_accuracy: 0.8639 - val_attr_output_loss: 0.3455 - val_dept_output_accuracy: 0.6054 - val_dept_output_loss: 0.8387 - val_loss: 1.2121\n",
      "Epoch 29/50\n",
      "\u001b[1m37/37\u001b[0m \u001b[32m━━━━━━━━━━━━━━━━━━━━\u001b[0m\u001b[37m\u001b[0m \u001b[1m0s\u001b[0m 6ms/step - attr_output_accuracy: 0.8387 - attr_output_loss: 0.3703 - dept_output_accuracy: 0.6642 - dept_output_loss: 0.6659 - loss: 1.0362 - val_attr_output_accuracy: 0.8673 - val_attr_output_loss: 0.3490 - val_dept_output_accuracy: 0.6327 - val_dept_output_loss: 0.8283 - val_loss: 1.2101\n",
      "Epoch 30/50\n",
      "\u001b[1m37/37\u001b[0m \u001b[32m━━━━━━━━━━━━━━━━━━━━\u001b[0m\u001b[37m\u001b[0m \u001b[1m0s\u001b[0m 7ms/step - attr_output_accuracy: 0.8605 - attr_output_loss: 0.3400 - dept_output_accuracy: 0.6818 - dept_output_loss: 0.6687 - loss: 1.0087 - val_attr_output_accuracy: 0.8605 - val_attr_output_loss: 0.3492 - val_dept_output_accuracy: 0.6497 - val_dept_output_loss: 0.8321 - val_loss: 1.2128\n",
      "Epoch 31/50\n",
      "\u001b[1m37/37\u001b[0m \u001b[32m━━━━━━━━━━━━━━━━━━━━\u001b[0m\u001b[37m\u001b[0m \u001b[1m0s\u001b[0m 6ms/step - attr_output_accuracy: 0.8755 - attr_output_loss: 0.3114 - dept_output_accuracy: 0.6896 - dept_output_loss: 0.6472 - loss: 0.9586 - val_attr_output_accuracy: 0.8571 - val_attr_output_loss: 0.3576 - val_dept_output_accuracy: 0.6190 - val_dept_output_loss: 0.8390 - val_loss: 1.2266\n",
      "Epoch 32/50\n",
      "\u001b[1m37/37\u001b[0m \u001b[32m━━━━━━━━━━━━━━━━━━━━\u001b[0m\u001b[37m\u001b[0m \u001b[1m0s\u001b[0m 6ms/step - attr_output_accuracy: 0.8641 - attr_output_loss: 0.3365 - dept_output_accuracy: 0.6803 - dept_output_loss: 0.6337 - loss: 0.9702 - val_attr_output_accuracy: 0.8639 - val_attr_output_loss: 0.3501 - val_dept_output_accuracy: 0.6224 - val_dept_output_loss: 0.8370 - val_loss: 1.2185\n",
      "Epoch 33/50\n",
      "\u001b[1m37/37\u001b[0m \u001b[32m━━━━━━━━━━━━━━━━━━━━\u001b[0m\u001b[37m\u001b[0m \u001b[1m0s\u001b[0m 6ms/step - attr_output_accuracy: 0.8699 - attr_output_loss: 0.3239 - dept_output_accuracy: 0.6926 - dept_output_loss: 0.6362 - loss: 0.9601 - val_attr_output_accuracy: 0.8605 - val_attr_output_loss: 0.3655 - val_dept_output_accuracy: 0.6429 - val_dept_output_loss: 0.8355 - val_loss: 1.2296\n",
      "Epoch 34/50\n",
      "\u001b[1m37/37\u001b[0m \u001b[32m━━━━━━━━━━━━━━━━━━━━\u001b[0m\u001b[37m\u001b[0m \u001b[1m0s\u001b[0m 5ms/step - attr_output_accuracy: 0.8682 - attr_output_loss: 0.3409 - dept_output_accuracy: 0.6982 - dept_output_loss: 0.6223 - loss: 0.9633 - val_attr_output_accuracy: 0.8707 - val_attr_output_loss: 0.3522 - val_dept_output_accuracy: 0.6054 - val_dept_output_loss: 0.8552 - val_loss: 1.2394\n",
      "Epoch 35/50\n",
      "\u001b[1m37/37\u001b[0m \u001b[32m━━━━━━━━━━━━━━━━━━━━\u001b[0m\u001b[37m\u001b[0m \u001b[1m0s\u001b[0m 6ms/step - attr_output_accuracy: 0.8766 - attr_output_loss: 0.3164 - dept_output_accuracy: 0.7096 - dept_output_loss: 0.6286 - loss: 0.9451 - val_attr_output_accuracy: 0.8571 - val_attr_output_loss: 0.3598 - val_dept_output_accuracy: 0.6190 - val_dept_output_loss: 0.8539 - val_loss: 1.2436\n",
      "Epoch 36/50\n",
      "\u001b[1m37/37\u001b[0m \u001b[32m━━━━━━━━━━━━━━━━━━━━\u001b[0m\u001b[37m\u001b[0m \u001b[1m0s\u001b[0m 6ms/step - attr_output_accuracy: 0.8731 - attr_output_loss: 0.3206 - dept_output_accuracy: 0.7146 - dept_output_loss: 0.6206 - loss: 0.9413 - val_attr_output_accuracy: 0.8639 - val_attr_output_loss: 0.3656 - val_dept_output_accuracy: 0.6190 - val_dept_output_loss: 0.8629 - val_loss: 1.2552\n",
      "Epoch 37/50\n",
      "\u001b[1m37/37\u001b[0m \u001b[32m━━━━━━━━━━━━━━━━━━━━\u001b[0m\u001b[37m\u001b[0m \u001b[1m0s\u001b[0m 6ms/step - attr_output_accuracy: 0.8738 - attr_output_loss: 0.3209 - dept_output_accuracy: 0.7151 - dept_output_loss: 0.6132 - loss: 0.9342 - val_attr_output_accuracy: 0.8673 - val_attr_output_loss: 0.3574 - val_dept_output_accuracy: 0.6054 - val_dept_output_loss: 0.8674 - val_loss: 1.2553\n",
      "Epoch 38/50\n",
      "\u001b[1m37/37\u001b[0m \u001b[32m━━━━━━━━━━━━━━━━━━━━\u001b[0m\u001b[37m\u001b[0m \u001b[1m0s\u001b[0m 6ms/step - attr_output_accuracy: 0.8488 - attr_output_loss: 0.3575 - dept_output_accuracy: 0.7056 - dept_output_loss: 0.6348 - loss: 0.9923 - val_attr_output_accuracy: 0.8673 - val_attr_output_loss: 0.3561 - val_dept_output_accuracy: 0.6122 - val_dept_output_loss: 0.8713 - val_loss: 1.2565\n",
      "Epoch 39/50\n",
      "\u001b[1m37/37\u001b[0m \u001b[32m━━━━━━━━━━━━━━━━━━━━\u001b[0m\u001b[37m\u001b[0m \u001b[1m0s\u001b[0m 6ms/step - attr_output_accuracy: 0.8648 - attr_output_loss: 0.3228 - dept_output_accuracy: 0.7334 - dept_output_loss: 0.5913 - loss: 0.9140 - val_attr_output_accuracy: 0.8707 - val_attr_output_loss: 0.3524 - val_dept_output_accuracy: 0.6259 - val_dept_output_loss: 0.8555 - val_loss: 1.2399\n",
      "Epoch 40/50\n",
      "\u001b[1m37/37\u001b[0m \u001b[32m━━━━━━━━━━━━━━━━━━━━\u001b[0m\u001b[37m\u001b[0m \u001b[1m0s\u001b[0m 6ms/step - attr_output_accuracy: 0.8837 - attr_output_loss: 0.2931 - dept_output_accuracy: 0.7277 - dept_output_loss: 0.6137 - loss: 0.9068 - val_attr_output_accuracy: 0.8605 - val_attr_output_loss: 0.3633 - val_dept_output_accuracy: 0.6259 - val_dept_output_loss: 0.8644 - val_loss: 1.2585\n",
      "Epoch 41/50\n",
      "\u001b[1m37/37\u001b[0m \u001b[32m━━━━━━━━━━━━━━━━━━━━\u001b[0m\u001b[37m\u001b[0m \u001b[1m0s\u001b[0m 6ms/step - attr_output_accuracy: 0.8815 - attr_output_loss: 0.3029 - dept_output_accuracy: 0.7433 - dept_output_loss: 0.5695 - loss: 0.8725 - val_attr_output_accuracy: 0.8673 - val_attr_output_loss: 0.3555 - val_dept_output_accuracy: 0.6224 - val_dept_output_loss: 0.8803 - val_loss: 1.2659\n",
      "Epoch 42/50\n",
      "\u001b[1m37/37\u001b[0m \u001b[32m━━━━━━━━━━━━━━━━━━━━\u001b[0m\u001b[37m\u001b[0m \u001b[1m0s\u001b[0m 6ms/step - attr_output_accuracy: 0.8757 - attr_output_loss: 0.2983 - dept_output_accuracy: 0.7453 - dept_output_loss: 0.5617 - loss: 0.8600 - val_attr_output_accuracy: 0.8673 - val_attr_output_loss: 0.3617 - val_dept_output_accuracy: 0.6122 - val_dept_output_loss: 0.8800 - val_loss: 1.2750\n",
      "Epoch 43/50\n",
      "\u001b[1m37/37\u001b[0m \u001b[32m━━━━━━━━━━━━━━━━━━━━\u001b[0m\u001b[37m\u001b[0m \u001b[1m0s\u001b[0m 8ms/step - attr_output_accuracy: 0.8857 - attr_output_loss: 0.2930 - dept_output_accuracy: 0.7572 - dept_output_loss: 0.5600 - loss: 0.8530 - val_attr_output_accuracy: 0.8503 - val_attr_output_loss: 0.3672 - val_dept_output_accuracy: 0.6224 - val_dept_output_loss: 0.8738 - val_loss: 1.2712\n",
      "Epoch 44/50\n",
      "\u001b[1m37/37\u001b[0m \u001b[32m━━━━━━━━━━━━━━━━━━━━\u001b[0m\u001b[37m\u001b[0m \u001b[1m0s\u001b[0m 6ms/step - attr_output_accuracy: 0.8847 - attr_output_loss: 0.3164 - dept_output_accuracy: 0.7375 - dept_output_loss: 0.5687 - loss: 0.8851 - val_attr_output_accuracy: 0.8741 - val_attr_output_loss: 0.3594 - val_dept_output_accuracy: 0.6361 - val_dept_output_loss: 0.8845 - val_loss: 1.2803\n",
      "Epoch 45/50\n",
      "\u001b[1m37/37\u001b[0m \u001b[32m━━━━━━━━━━━━━━━━━━━━\u001b[0m\u001b[37m\u001b[0m \u001b[1m0s\u001b[0m 6ms/step - attr_output_accuracy: 0.8855 - attr_output_loss: 0.3035 - dept_output_accuracy: 0.7316 - dept_output_loss: 0.5729 - loss: 0.8764 - val_attr_output_accuracy: 0.8639 - val_attr_output_loss: 0.3624 - val_dept_output_accuracy: 0.6156 - val_dept_output_loss: 0.8907 - val_loss: 1.2890\n",
      "Epoch 46/50\n",
      "\u001b[1m37/37\u001b[0m \u001b[32m━━━━━━━━━━━━━━━━━━━━\u001b[0m\u001b[37m\u001b[0m \u001b[1m0s\u001b[0m 6ms/step - attr_output_accuracy: 0.8859 - attr_output_loss: 0.2953 - dept_output_accuracy: 0.7575 - dept_output_loss: 0.5668 - loss: 0.8622 - val_attr_output_accuracy: 0.8639 - val_attr_output_loss: 0.3610 - val_dept_output_accuracy: 0.6190 - val_dept_output_loss: 0.9099 - val_loss: 1.3085\n",
      "Epoch 47/50\n",
      "\u001b[1m37/37\u001b[0m \u001b[32m━━━━━━━━━━━━━━━━━━━━\u001b[0m\u001b[37m\u001b[0m \u001b[1m0s\u001b[0m 6ms/step - attr_output_accuracy: 0.8911 - attr_output_loss: 0.2903 - dept_output_accuracy: 0.7441 - dept_output_loss: 0.5533 - loss: 0.8435 - val_attr_output_accuracy: 0.8605 - val_attr_output_loss: 0.3672 - val_dept_output_accuracy: 0.6156 - val_dept_output_loss: 0.9125 - val_loss: 1.3140\n",
      "Epoch 48/50\n",
      "\u001b[1m37/37\u001b[0m \u001b[32m━━━━━━━━━━━━━━━━━━━━\u001b[0m\u001b[37m\u001b[0m \u001b[1m0s\u001b[0m 6ms/step - attr_output_accuracy: 0.8791 - attr_output_loss: 0.3062 - dept_output_accuracy: 0.7422 - dept_output_loss: 0.5507 - loss: 0.8569 - val_attr_output_accuracy: 0.8605 - val_attr_output_loss: 0.3635 - val_dept_output_accuracy: 0.6259 - val_dept_output_loss: 0.9045 - val_loss: 1.3044\n",
      "Epoch 49/50\n",
      "\u001b[1m37/37\u001b[0m \u001b[32m━━━━━━━━━━━━━━━━━━━━\u001b[0m\u001b[37m\u001b[0m \u001b[1m0s\u001b[0m 8ms/step - attr_output_accuracy: 0.8824 - attr_output_loss: 0.2869 - dept_output_accuracy: 0.7548 - dept_output_loss: 0.5426 - loss: 0.8296 - val_attr_output_accuracy: 0.8673 - val_attr_output_loss: 0.3677 - val_dept_output_accuracy: 0.6259 - val_dept_output_loss: 0.9037 - val_loss: 1.3052\n",
      "Epoch 50/50\n",
      "\u001b[1m37/37\u001b[0m \u001b[32m━━━━━━━━━━━━━━━━━━━━\u001b[0m\u001b[37m\u001b[0m \u001b[1m0s\u001b[0m 6ms/step - attr_output_accuracy: 0.8930 - attr_output_loss: 0.2749 - dept_output_accuracy: 0.7763 - dept_output_loss: 0.5273 - loss: 0.8022 - val_attr_output_accuracy: 0.8503 - val_attr_output_loss: 0.3652 - val_dept_output_accuracy: 0.6054 - val_dept_output_loss: 0.9193 - val_loss: 1.3197\n"
     ]
    }
   ],
   "source": [
    "# Train the model\n",
    "history = model.fit(X_train_scaled, {'dept_output': y_train_dept_encoded, 'attr_output': y_train_attr_encoded},\n",
    "                    validation_data=(X_test_scaled, {'dept_output': y_test_dept_encoded, 'attr_output': y_test_attr_encoded}),\n",
    "                    epochs=50, batch_size=32)"
   ]
  },
  {
   "cell_type": "code",
   "execution_count": 22,
   "metadata": {
    "colab": {
     "base_uri": "https://localhost:8080/"
    },
    "executionInfo": {
     "elapsed": 379,
     "status": "ok",
     "timestamp": 1730699259894,
     "user": {
      "displayName": "Alexander Booth",
      "userId": "02269714993535573104"
     },
     "user_tz": 360
    },
    "id": "VsMoaQlgGc3U",
    "outputId": "636c85ba-ee63-4087-b7d1-00b408f1055a"
   },
   "outputs": [
    {
     "name": "stdout",
     "output_type": "stream",
     "text": [
      "\u001b[1m10/10\u001b[0m \u001b[32m━━━━━━━━━━━━━━━━━━━━\u001b[0m\u001b[37m\u001b[0m \u001b[1m0s\u001b[0m 6ms/step - attr_output_accuracy: 0.8491 - attr_output_loss: 0.4080 - dept_output_accuracy: 0.5874 - dept_output_loss: 0.9344 - loss: 1.3488 \n"
     ]
    }
   ],
   "source": [
    "# Evaluate the model with the testing data\n",
    "test_loss, dept_loss, attr_loss, dept_acc, attr_acc = model.evaluate(X_test_scaled, {'dept_output': y_test_dept_encoded, 'attr_output': y_test_attr_encoded})\n"
   ]
  },
  {
   "cell_type": "code",
   "execution_count": null,
   "metadata": {
    "colab": {
     "base_uri": "https://localhost:8080/"
    },
    "executionInfo": {
     "elapsed": 113,
     "status": "ok",
     "timestamp": 1730699260004,
     "user": {
      "displayName": "Alexander Booth",
      "userId": "02269714993535573104"
     },
     "user_tz": 360
    },
    "id": "ZlCtlHi0Vt54",
    "outputId": "3a32435c-11cf-48da-81b5-1431d6c00da2"
   },
   "outputs": [
    {
     "name": "stdout",
     "output_type": "stream",
     "text": [
      "Department Prediction Accuracy: 0.8503\n",
      "Attrition Prediction Accuracy: 0.6054\n"
     ]
    }
   ],
   "source": [
    "# Print the accuracy for both department and attrition\n",
    "print(f\"Department Prediction Accuracy: {dept_acc:.4f}\")\n",
    "print(f\"Attrition Prediction Accuracy: {attr_acc:.4f}\")"
   ]
  },
  {
   "cell_type": "markdown",
   "metadata": {
    "id": "eGSyfsZfWOQM"
   },
   "source": [
    "# Summary\n",
    "\n",
    "In the provided space below, briefly answer the following questions.\n",
    "\n",
    "1. Is accuracy the best metric to use on this data? Why or why not?\n",
    "\n",
    "2. What activation functions did you choose for your output layers, and why?\n",
    "\n",
    "3. Can you name a few ways that this model might be improved?"
   ]
  },
  {
   "cell_type": "markdown",
   "metadata": {
    "id": "pi9SLpFnWvbF"
   },
   "source": [
    "YOUR ANSWERS HERE\n",
    "\n",
    "1. Accuracy is useful but not always the best metric, especially if the dataset is imbalanced. For attrition, precision, recall, and F1-score provide better insights since false positives and false negatives matter. For department prediction, accuracy is more reliable, but a confusion matrix or top-k accuracy could add more value.\n",
    "2. For the attrition output, I used sigmoid since it is a binary classification problem, which outputs a probability between 0 and 1. For the department output, I used softmax because it is a multi-class classification problem, ensuring the outputs sum to 1 and represent class probabilities.\n",
    "3. The model could be improved by tuning hyperparameters, such as the number of layers, neurons, and learning rate. Using techniques like dropout or batch normalization could help prevent overfitting. Additionally, handling class imbalance in attrition prediction through SMOTE or class weighting might improve performance."
   ]
  },
  {
   "cell_type": "code",
   "execution_count": null,
   "metadata": {
    "executionInfo": {
     "elapsed": 3,
     "status": "ok",
     "timestamp": 1730699260004,
     "user": {
      "displayName": "Alexander Booth",
      "userId": "02269714993535573104"
     },
     "user_tz": 360
    },
    "id": "ZuQWjGgGXZ3C"
   },
   "outputs": [],
   "source": []
  }
 ],
 "metadata": {
  "colab": {
   "provenance": []
  },
  "kernelspec": {
   "display_name": "dev",
   "language": "python",
   "name": "python3"
  },
  "language_info": {
   "codemirror_mode": {
    "name": "ipython",
    "version": 3
   },
   "file_extension": ".py",
   "mimetype": "text/x-python",
   "name": "python",
   "nbconvert_exporter": "python",
   "pygments_lexer": "ipython3",
   "version": "3.10.15"
  }
 },
 "nbformat": 4,
 "nbformat_minor": 0
}
